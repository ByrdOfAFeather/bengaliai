{
 "cells": [
  {
   "cell_type": "markdown",
   "metadata": {},
   "source": [
    "# 1. What is any of this stuff anyway"
   ]
  },
  {
   "cell_type": "code",
   "execution_count": 1,
   "metadata": {
    "pycharm": {
     "is_executing": false,
     "name": "#%% \n"
    }
   },
   "outputs": [],
   "source": [
    "import pandas as pd \n",
    "DATA_PATH = \"../bengaliai-cv19/\""
   ]
  },
  {
   "cell_type": "markdown",
   "metadata": {
    "pycharm": {
     "name": "#%% md\n"
    }
   },
   "source": [
    "## 1.1. Class Map"
   ]
  },
  {
   "cell_type": "code",
   "execution_count": 2,
   "metadata": {
    "pycharm": {
     "is_executing": false,
     "name": "#%%\n"
    }
   },
   "outputs": [
    {
     "name": "stdout",
     "output_type": "stream",
     "text": [
      "===== Class Map HEAD =====\n",
      "  component_type  label component\n",
      "0  grapheme_root      0         ং\n",
      "1  grapheme_root      1         ঃ\n",
      "2  grapheme_root      2         অ\n",
      "3  grapheme_root      3         আ\n",
      "4  grapheme_root      4         ই\n",
      "==========================\n",
      "===== COMPONENT TYPES =====\n",
      "['grapheme_root' 'vowel_diacritic' 'consonant_diacritic']\n",
      "==========================\n",
      "===== Lengths of component types =====\n",
      "grapheme_root has size 168\n",
      "vowel_diacritic has size 11\n",
      "consonant_diacritic has size 7\n",
      "==========================\n"
     ]
    }
   ],
   "source": [
    "class_map = pd.read_csv(DATA_PATH + \"class_map.csv\")\n",
    "\n",
    "# General idea\n",
    "print(\"===== Class Map HEAD =====\")\n",
    "print(class_map.head())\n",
    "print(\"==========================\")\n",
    "\n",
    "# What are the types of components\n",
    "print(\"===== COMPONENT TYPES =====\")\n",
    "print(class_map.component_type.unique())\n",
    "print(\"==========================\")\n",
    "\n",
    "# Get a sense of the sizes of the component types\n",
    "print(\"===== Lengths of component types =====\")\n",
    "def print_len(component_type):\n",
    "    print(f\"{component_type} has size {len(class_map.loc[class_map.component_type == component_type])}\")\n",
    "\n",
    "for comp_type in class_map.component_type.unique(): print_len(comp_type)\n",
    "print(\"==========================\")"
   ]
  },
  {
   "cell_type": "markdown",
   "metadata": {
    "pycharm": {
     "name": "#%% md\n"
    }
   },
   "source": [
    "The class map appears to have two main purposes:\n",
    "* Define the expected numeric value for each symbol [helpful when defining output]\n",
    "* Define the type of the symbol - there are only three types, but, the label resets from 0 for each type. grapheme_root \n",
    "  makes up most of the dataset. ~~This seems like it might cause for some skew unless the images are balanced\n",
    "  accordingly.~~ - Every image seems to have a label for every component type (?)"
   ]
  },
  {
   "cell_type": "markdown",
   "metadata": {
    "pycharm": {
     "name": "#%% md\n"
    }
   },
   "source": [
    "## 1.2. Test & Train csv's"
   ]
  },
  {
   "cell_type": "code",
   "execution_count": 3,
   "metadata": {
    "pycharm": {
     "is_executing": false,
     "name": "#%%\n"
    }
   },
   "outputs": [
    {
     "name": "stdout",
     "output_type": "stream",
     "text": [
      "===== Train Indices HEAD =====\n",
      "  image_id  grapheme_root  vowel_diacritic  consonant_diacritic grapheme\n",
      "0  Train_0             15                9                    5   ক্ট্রো\n",
      "1  Train_1            159                0                    0        হ\n",
      "2  Train_2             22                3                    5     খ্রী\n",
      "3  Train_3             53                2                    2     র্টি\n",
      "4  Train_4             71                9                    5     থ্রো\n",
      "==========================\n"
     ]
    }
   ],
   "source": [
    "test_indices = pd.read_csv(DATA_PATH + \"test.csv\")\n",
    "train_indices = pd.read_csv(DATA_PATH + \"train.csv\")\n",
    "\n",
    "print(\"===== Train Indices HEAD =====\")\n",
    "print(train_indices.head())\n",
    "print(\"==========================\")"
   ]
  },
  {
   "cell_type": "markdown",
   "metadata": {
    "pycharm": {
     "name": "#%% md\n"
    }
   },
   "source": [
    "So it appears that the image_id is something that will come into play when indexing the parquets. It seems that every image has 3 labels. \n",
    "Perhaps building three models will be the best  course of action to predict each label, or, perhaps, the labels are very \n",
    "related and would work better if one model handled them all. (As mentioned on kaggle, the actual character is not \n",
    "something to be used at all and is only here for reference). \n",
    "\n",
    "Another note: The 0 label indicates that it is not of a certain type of component. \n",
    "\n",
    "## 1.3. Sample Submission"
   ]
  },
  {
   "cell_type": "code",
   "execution_count": 4,
   "metadata": {
    "pycharm": {
     "is_executing": false,
     "name": "#%%\n"
    }
   },
   "outputs": [
    {
     "name": "stdout",
     "output_type": "stream",
     "text": [
      "===== Train Indices HEAD =====\n",
      "                       row_id  target\n",
      "0  Test_0_consonant_diacritic       0\n",
      "1        Test_0_grapheme_root       0\n",
      "2      Test_0_vowel_diacritic       0\n",
      "3  Test_1_consonant_diacritic       0\n",
      "4        Test_1_grapheme_root       0\n",
      "==========================\n"
     ]
    }
   ],
   "source": [
    "sample_submission = pd.read_csv(DATA_PATH + \"sample_submission.csv\")\n",
    "\n",
    "print(\"===== Train Indices HEAD =====\")\n",
    "print(sample_submission.head())\n",
    "print(\"==========================\")"
   ]
  },
  {
   "cell_type": "markdown",
   "metadata": {
    "pycharm": {
     "name": "#%% md\n"
    }
   },
   "source": [
    "As expected each image has three labels. \n",
    "\n",
    "# 2. Conditionals and Distributions\n",
    "\n",
    "## 2.1 Reasoning\n",
    "\n",
    "Given that there are so few classes in vowel diacritic and consonant diacritic, there is \n",
    "probably a good deal of information dependent "
   ]
  },
  {
   "cell_type": "code",
   "execution_count": 5,
   "metadata": {
    "pycharm": {
     "is_executing": false,
     "name": "#%%\n"
    }
   },
   "outputs": [
    {
     "data": {
      "image/png": "[encoded data removed]",
      "text/plain": [
       "<Figure size 432x288 with 1 Axes>"
      ]
     },
     "metadata": {
      "needs_background": "light"
     },
     "output_type": "display_data"
    },
    {
     "data": {
      "image/png": "[encoded data removed]",
      "text/plain": [
       "<Figure size 432x288 with 1 Axes>"
      ]
     },
     "metadata": {
      "needs_background": "light"
     },
     "output_type": "display_data"
    },
    {
     "data": {
      "image/png": "[encoded data removed]",
      "text/plain": [
       "<Figure size 432x288 with 1 Axes>"
      ]
     },
     "metadata": {
      "needs_background": "light"
     },
     "output_type": "display_data"
    },
    {
     "name": "stdout",
     "output_type": "stream",
     "text": [
      "=====Grapheme Roots the are also the 2nd Consonant Diacritic =====\n",
      "[107  29  43  71]\n",
      "===================================\n"
     ]
    }
   ],
   "source": [
    "import matplotlib.pyplot as plt\n",
    "\n",
    "train_data = pd.read_csv(DATA_PATH + \"train.csv\")\n",
    "def plot_hist(data, title):\n",
    "    plt.hist(data)\n",
    "    plt.title(title)\n",
    "    plt.xlabel(\"Word Labels\")\n",
    "    plt.ylabel(\"#In Train Datset\")\n",
    "    plt.show()\n",
    "\n",
    "plot_hist(train_data.grapheme_root, \"grapheme_root\")\n",
    "plot_hist(train_data.vowel_diacritic, \"vowel_diacritic\")\n",
    "plot_hist(train_data.consonant_diacritic, \"consonant_diacritic\")\n",
    "\n",
    "print(\"=====Grapheme Roots the are also the 2nd Consonant Diacritic =====\")\n",
    "print(train_data.loc[train_data.consonant_diacritic == 3].grapheme_root.unique())\n",
    "print(\"===================================\")"
   ]
  },
  {
   "cell_type": "markdown",
   "metadata": {
    "pycharm": {
     "name": "#%% md\n"
    }
   },
   "source": [
    "## 2.2. Building A Probability Distribution\n",
    "\n",
    "$ G_r \\in \\{0, ..., 167\\} $ : Random Variable Representing the Grapheme Root of a training item\n",
    " \n",
    "$ D_c \\in \\{ 0, ...., 10 \\} $ : Random Variable Representing the Consonant Diacritic of a training item\n",
    "\n",
    "$ D_v \\in \\{ 0, ...., 6 \\} $ : Random Variable Representing the Vowel Diacritic of a training item\n",
    "\n",
    "$$ P(G_r = g_r | D_c = d_c) = \\frac{ \\#\\{g_r \\cap d_c \\}}{\\#\\{d_c\\}} $$"
   ]
  },
  {
   "cell_type": "code",
   "execution_count": null,
   "metadata": {
    "pycharm": {
     "is_executing": true,
     "name": "#%%\n"
    }
   },
   "outputs": [],
   "source": [
    "def probability_of_g_r_given_d_c(g_r, d_c):\n",
    "    no_d_c_and_g_r = len(train_data.loc[(train_data.grapheme_root == g_r) & (train_data.consonant_diacritic == d_c)])\n",
    "    no_d_c = len(train_data.loc[train_data.consonant_diacritic == d_c])\n",
    "    return  no_d_c_and_g_r / no_d_c\n",
    "\n",
    "probability_dist = []\n",
    "for d_c in train_data.consonant_diacritic.unique():\n",
    "    for g_r in train_data.grapheme_root.unique():\n",
    "        probability_dist.append(probability_of_g_r_given_d_c(g_r, d_c))\n",
    "\n",
    "probability_dist.sort()\n",
    "print(probability_dist)\n",
    "\n",
    "probability_dist.sort(reverse=True)\n",
    "print(probability_dist[10:])"
   ]
  },
  {
   "cell_type": "markdown",
   "metadata": {
    "pycharm": {
     "name": "#%% md\n"
    }
   },
   "source": [
    "We can draw from this that inferring the actual $ G_r $ based on the $ D_c $ variable is difficult, however,\n",
    "realizing what $ G_r $ is not the correct answer is quite possible if $ D_c $ can be inferred.\n",
    "\n",
    "So that raises the question: can $ D_c $ be inferred independently of other variables? \n",
    " "
   ]
  },
  {
   "cell_type": "code",
   "execution_count": null,
   "metadata": {
    "pycharm": {
     "is_executing": true,
     "name": "#%%\n"
    }
   },
   "outputs": [],
   "source": [
    "print(class_map.loc[class_map.component_type == \"consonant_diacritic\"])"
   ]
  },
  {
   "cell_type": "markdown",
   "metadata": {
    "pycharm": {
     "name": "#%% md\n"
    }
   },
   "source": [
    "It seems quite possible. Based on the unicode they seem somewhat similar"
   ]
  }
 ],
 "metadata": {
  "kernelspec": {
   "display_name": "Python 3",
   "language": "python",
   "name": "python3"
  },
  "language_info": {
   "codemirror_mode": {
    "name": "ipython",
    "version": 3
   },
   "file_extension": ".py",
   "mimetype": "text/x-python",
   "name": "python",
   "nbconvert_exporter": "python",
   "pygments_lexer": "ipython3",
   "version": "3.7.3"
  },
  "pycharm": {
   "stem_cell": {
    "cell_type": "raw",
    "metadata": {
     "collapsed": false
    },
    "source": []
   }
  }
 },
 "nbformat": 4,
 "nbformat_minor": 1
}
